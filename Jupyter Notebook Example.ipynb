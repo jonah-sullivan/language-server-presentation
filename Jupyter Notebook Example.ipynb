{
 "cells": [
  {
   "cell_type": "code",
   "execution_count": 7,
   "metadata": {},
   "outputs": [
    {
     "name": "stdout",
     "output_type": "stream",
     "text": [
      "firstInt: 5, secondInt: 2\n",
      "additionOutput: 7\n",
      "addTwoInts.__doc__ \n",
      "    Stupid addition example\n",
      "\n",
      "    Args:\n",
      "        first_int_inline (int): the first integer\n",
      "        second_int_inline (int): the second integer\n",
      "\n",
      "    Returns:\n",
      "        int: first plus second\n",
      "    \n"
     ]
    },
    {
     "data": {
      "text/plain": [
       "3"
      ]
     },
     "execution_count": 7,
     "metadata": {},
     "output_type": "execute_result"
    }
   ],
   "source": [
    "from twoInts import add_two_ints\n",
    "\n",
    "firstInt = 5\n",
    "secondInt = 2\n",
    "\n",
    "additionOutput = add_two_ints(firstInt, secondInt)\n",
    "print(f\"firstInt: {firstInt}, secondInt: {secondInt}\")\n",
    "print(f\"additionOutput: {additionOutput}\")\n",
    "print(f\"addTwoInts.__doc__ {add_two_ints.__doc__}\")\n",
    "\n",
    "add_two_ints(1, 2)"
   ]
  },
  {
   "cell_type": "code",
   "execution_count": 8,
   "metadata": {},
   "outputs": [
    {
     "data": {
      "text/plain": [
       "5"
      ]
     },
     "execution_count": 8,
     "metadata": {},
     "output_type": "execute_result"
    }
   ],
   "source": [
    "add_two_ints(2,3)"
   ]
  },
  {
   "cell_type": "code",
   "execution_count": 5,
   "metadata": {},
   "outputs": [
    {
     "data": {
      "text/plain": [
       "3"
      ]
     },
     "execution_count": 5,
     "metadata": {},
     "output_type": "execute_result"
    }
   ],
   "source": [
    "print(add_two_ints(1, 2))"
   ]
  },
  {
   "cell_type": "code",
   "execution_count": null,
   "metadata": {},
   "outputs": [],
   "source": []
  }
 ],
 "metadata": {
  "file_extension": ".py",
  "kernelspec": {
   "display_name": "Python 3 (ipykernel)",
   "language": "python",
   "name": "python3"
  },
  "language_info": {
   "codemirror_mode": {
    "name": "ipython",
    "version": 3
   },
   "file_extension": ".py",
   "mimetype": "text/x-python",
   "name": "python",
   "nbconvert_exporter": "python",
   "pygments_lexer": "ipython3",
   "version": "3.8.10"
  },
  "mimetype": "text/x-python",
  "name": "python",
  "npconvert_exporter": "python",
  "pygments_lexer": "ipython3",
  "version": 3
 },
 "nbformat": 4,
 "nbformat_minor": 2
}
